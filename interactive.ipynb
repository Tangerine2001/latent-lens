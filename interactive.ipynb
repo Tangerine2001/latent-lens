{
  "cells": [
    {
      "attachments": {},
      "cell_type": "markdown",
      "metadata": {
        "id": "FU-1GTZT28li"
      },
      "source": [
        "# The tuned lens 🔎\n",
        "A tuned lens allows us to peak at the iterative computations that a transformer is using the compute the next token.\n",
        "\n",
        "A lens into a transformer with n layers allows you to replace the last $m$ layers of the model with an [affine transformation](https://pytorch.org/docs/stable/generated/torch.nn.Linear.html) (we call these affine translators).\n",
        "\n",
        "This essentially skips over these last few layers and lets you see the best prediction that can be made from the model's representations, i.e. the residual stream, at layer $n - m$. Since the representations may be rotated, shifted, or stretched from layer to layer it's useful to train the len's affine translators specifically on each layer. This training is what differentiates this method from simpler approaches that decode the residual stream of the network directly using the unembeding layer i.e. the logit lens. We explain this process along with more applications of the method in [the paper](ttps://arxiv.org/abs/2303.08112).\n",
        "\n",
        "You can find the complete set of pretrained lenses on [the hugging face space](https://huggingface.co/spaces/AlignmentResearch/tuned-lens/tree/main/lens).\n",
        "\n",
        "## Usage\n",
        "Since the tuned lens produces a distribution of predictions to visualize it's output we need to we need to provide a summary statistic to plot.  The default is simply [entropy](https://en.wikipedia.org/wiki/Entropy_(information_theory)), but you can also choose the [cross entropy](https://en.wikipedia.org/wiki/Cross_entropy) with the target token, or the [KL divergence](https://en.wikipedia.org/wiki/Kullback%E2%80%93Leibler_divergence) between the model's predictions and the tuned lens' predictions. You can also hover over a token to see more of the distribution i.e. the top 10 most probable tokens and their probabilities.\n",
        "\n",
        "## Examples\n",
        "Some interesting examples you can try.\n",
        "\n",
        "### Copy paste:\n",
        "```\n",
        "Copy: A!2j!#u&NGApS&MkkHe8Gm!#\n",
        "Paste: A!2j!#u&NGApS&MkkHe8Gm!#\n",
        "```\n",
        "\n",
        "### Trivial in-context learning\n",
        "```\n",
        "inc 1 2\n",
        "inc 4 5\n",
        "inc 13 \n",
        "```\n",
        "\n",
        "#### Addition\n",
        "```\n",
        "add 1 1 2\n",
        "add 3 4 7\n",
        "add 13 2 \n",
        "```"
      ]
    },
    {
      "cell_type": "code",
      "execution_count": 1,
      "metadata": {
        "id": "W9cRsIdK2-Jm"
      },
      "outputs": [],
      "source": [
        "# !pip install tuned-lens==0.0.3\n"
      ]
    },
    {
      "cell_type": "code",
      "execution_count": 1,
      "metadata": {
        "id": "z9AhuLaDBDRN"
      },
      "outputs": [],
      "source": [
        "import os\n",
        "\n",
        "import torch\n",
        "from tuned_lens.nn.lenses import TunedLens, LogitLens\n",
        "from transformers import AutoModelForCausalLM, AutoTokenizer\n",
        "\n",
        "windows = False\n",
        "try:\n",
        "  from google.colab import output\n",
        "  output.enable_custom_widget_manager()\n",
        "except:\n",
        "  if os.name == 'nt':\n",
        "    windows = True\n",
        "\n",
        "bfloat16_available = torch.cuda.get_device_capability()[0] >= 8\n",
        "floatDtype = torch.bfloat16 if bfloat16_available else torch.float16"
      ]
    },
    {
      "cell_type": "code",
      "execution_count": 2,
      "metadata": {
        "id": "FGd2YmyD28lk",
        "scrolled": true
      },
      "outputs": [],
      "source": [
        "device = torch.device('cuda')\n",
        "loadLens = True\n",
        "modelName = 'EleutherAI/pythia-1b'\n",
        "LensName = \"outputs\\\\test-1b\\\\\"\n",
        "# modelName = 'sshleifer/tiny-gpt2'\n",
        "# To try a diffrent modle / lens check if the lens is avalible then modify this code\n",
        "model = AutoModelForCausalLM.from_pretrained(modelName, low_cpu_mem_usage=True, torch_dtype=floatDtype)\n",
        "model.eval()\n",
        "model.requires_grad_(False)\n",
        "model = model.to(device)\n",
        "\n",
        "tokenizer = AutoTokenizer.from_pretrained(modelName)\n",
        "if loadLens:\n",
        "    tuned_lens = TunedLens.load(LensName, map_location=device)\n",
        "else:\n",
        "    tuned_lens = TunedLens(model)\n",
        "tuned_lens = tuned_lens.to(device)\n",
        "# logit_lens = LogitLens(model)\n",
        "logit_lens = None"
      ]
    },
    {
      "cell_type": "code",
      "execution_count": 3,
      "metadata": {},
      "outputs": [
        {
          "name": "stdout",
          "output_type": "stream",
          "text": [
            "===========================================================================\n",
            "Layer (type:depth-idx)                             Param #\n",
            "===========================================================================\n",
            "GPTNeoXForCausalLM                                 --\n",
            "├─GPTNeoXModel: 1-1                                --\n",
            "│    └─Embedding: 2-1                              (103,022,592)\n",
            "│    └─ModuleList: 2-2                             --\n",
            "│    │    └─GPTNeoXLayer: 3-1                      (50,358,272)\n",
            "│    │    └─GPTNeoXLayer: 3-2                      (50,358,272)\n",
            "│    │    └─GPTNeoXLayer: 3-3                      (50,358,272)\n",
            "│    │    └─GPTNeoXLayer: 3-4                      (50,358,272)\n",
            "│    │    └─GPTNeoXLayer: 3-5                      (50,358,272)\n",
            "│    │    └─GPTNeoXLayer: 3-6                      (50,358,272)\n",
            "│    │    └─GPTNeoXLayer: 3-7                      (50,358,272)\n",
            "│    │    └─GPTNeoXLayer: 3-8                      (50,358,272)\n",
            "│    │    └─GPTNeoXLayer: 3-9                      (50,358,272)\n",
            "│    │    └─GPTNeoXLayer: 3-10                     (50,358,272)\n",
            "│    │    └─GPTNeoXLayer: 3-11                     (50,358,272)\n",
            "│    │    └─GPTNeoXLayer: 3-12                     (50,358,272)\n",
            "│    │    └─GPTNeoXLayer: 3-13                     (50,358,272)\n",
            "│    │    └─GPTNeoXLayer: 3-14                     (50,358,272)\n",
            "│    │    └─GPTNeoXLayer: 3-15                     (50,358,272)\n",
            "│    │    └─GPTNeoXLayer: 3-16                     (50,358,272)\n",
            "│    └─LayerNorm: 2-3                              (4,096)\n",
            "├─Linear: 1-2                                      (103,022,592)\n",
            "===========================================================================\n",
            "Total params: 1,011,781,632\n",
            "Trainable params: 0\n",
            "Non-trainable params: 1,011,781,632\n",
            "===========================================================================\n",
            "=================================================================\n",
            "Layer (type:depth-idx)                   Param #\n",
            "=================================================================\n",
            "TunedLens                                --\n",
            "├─Sequential: 1-1                        --\n",
            "├─LayerNorm: 1-2                         (4,096)\n",
            "├─Linear: 1-3                            (103,022,592)\n",
            "├─Linear: 1-4                            4,196,352\n",
            "├─ModuleList: 1-5                        --\n",
            "│    └─Linear: 2-1                       4,196,352\n",
            "│    └─Linear: 2-2                       4,196,352\n",
            "│    └─Linear: 2-3                       4,196,352\n",
            "│    └─Linear: 2-4                       4,196,352\n",
            "│    └─Linear: 2-5                       4,196,352\n",
            "│    └─Linear: 2-6                       4,196,352\n",
            "│    └─Linear: 2-7                       4,196,352\n",
            "│    └─Linear: 2-8                       4,196,352\n",
            "│    └─Linear: 2-9                       4,196,352\n",
            "│    └─Linear: 2-10                      4,196,352\n",
            "│    └─Linear: 2-11                      4,196,352\n",
            "│    └─Linear: 2-12                      4,196,352\n",
            "│    └─Linear: 2-13                      4,196,352\n",
            "│    └─Linear: 2-14                      4,196,352\n",
            "│    └─Linear: 2-15                      4,196,352\n",
            "=================================================================\n",
            "Total params: 170,168,320\n",
            "Trainable params: 67,141,632\n",
            "Non-trainable params: 103,026,688\n",
            "=================================================================\n"
          ]
        }
      ],
      "source": [
        "from torchinfo import summary\n",
        "print(summary(model))\n",
        "print(summary(tuned_lens))"
      ]
    },
    {
      "cell_type": "code",
      "execution_count": 4,
      "metadata": {
        "id": "DL8f4i2828lm",
        "scrolled": true
      },
      "outputs": [
        {
          "data": {
            "application/vnd.jupyter.widget-view+json": {
              "model_id": "9ba328348ade4063858c55e26e143bb3",
              "version_major": 2,
              "version_minor": 0
            },
            "text/plain": [
              "interactive(children=(Dropdown(description='Select Lens:', options=(('Tuned Lens', TunedLens(\n",
              "  (extra_layers)…"
            ]
          },
          "metadata": {},
          "output_type": "display_data"
        }
      ],
      "source": [
        "from tuned_lens.plotting import plot_lens\n",
        "import ipywidgets as widgets\n",
        "from plotly import graph_objects as go\n",
        "\n",
        "\n",
        "def make_plot(lens, text, layer_stride, statistic, token_range):\n",
        "    input_ids = tokenizer.encode(text, return_tensors=\"pt\")\n",
        "\n",
        "    if len(input_ids[0]) == 0:\n",
        "        return widgets.Text(\"Please enter some text.\")\n",
        "    \n",
        "    if (token_range[0] == token_range[1]):\n",
        "        return widgets.Text(\"Please provide valid token range.\")\n",
        "\n",
        "    return go.FigureWidget(\n",
        "        plot_lens(\n",
        "            model,\n",
        "            tokenizer,\n",
        "            lens,\n",
        "            layer_stride=layer_stride,\n",
        "            input_ids=input_ids,\n",
        "            start_pos=token_range[0],\n",
        "            end_pos=token_range[1] if token_range[1] > 0 else None,\n",
        "            statistic=statistic,\n",
        "        )\n",
        "    )\n",
        "\n",
        "style = {'description_width': 'initial'}\n",
        "statistic_wdg = widgets.Dropdown(\n",
        "    options=[\n",
        "        ('Entropy', 'entropy'),\n",
        "        ('Cross Entropy', 'ce'),\n",
        "        ('Forward KL', 'forward_kl'),\n",
        "    ],\n",
        "    description='Select Statistic:',\n",
        "    style=style,\n",
        ")\n",
        "text_wdg = widgets.Textarea(\n",
        "    description=\"Input Text\",\n",
        "    value=\"it was the best of times, it was the worst of times\",\n",
        ")\n",
        "lens_wdg = widgets.Dropdown(\n",
        "    options=[('Tuned Lens', tuned_lens), ('Logit Lens', logit_lens)],\n",
        "    description='Select Lens:',\n",
        "    style=style,\n",
        ")\n",
        "\n",
        "layer_stride_wdg = widgets.BoundedIntText(\n",
        "    value=2,\n",
        "    min=1,\n",
        "    max=model.config.num_hidden_layers//2,\n",
        "    step=1,\n",
        "    description='Layer Stride:',\n",
        "    disabled=False\n",
        ")\n",
        "\n",
        "token_range_wdg = widgets.IntRangeSlider(\n",
        "    description='Token Range',\n",
        "    min=0,\n",
        "    max=1,\n",
        "    step=1,\n",
        "    style=style,\n",
        ")\n",
        "\n",
        "\n",
        "def update_token_range(*args):\n",
        "    token_range_wdg.max = len(tokenizer.encode(text_wdg.value))\n",
        "\n",
        "update_token_range()\n",
        "\n",
        "token_range_wdg.value = [0, token_range_wdg.max]\n",
        "text_wdg.observe(update_token_range, 'value')\n",
        "\n",
        "interact = widgets.interact.options(manual_name='Run Lens', manual=True)\n",
        "\n",
        "with torch.autocast(\"cuda\", dtype=floatDtype):\n",
        "    plot = interact(\n",
        "        make_plot,\n",
        "        text=text_wdg,\n",
        "        statistic=statistic_wdg,\n",
        "        lens=lens_wdg,\n",
        "        layer_stride=layer_stride_wdg,\n",
        "        token_range=token_range_wdg,\n",
        "    )"
      ]
    },
    {
      "cell_type": "code",
      "execution_count": null,
      "metadata": {},
      "outputs": [],
      "source": [
        "# tuned-lens train latent gpt2 related --loss ce --token-shift 0 --output outputs/test\n",
        "# tuned-lens train latent EleutherAI/pythia-1b related --loss ce --token-shift 0 --output outputs/test-1b-long --tokens-per-step 8192 --wandb latent-lens-long\n",
        "# tuned-lens train latent EleutherAI/pythia-6.9b related --loss ce --token-shift 0 --output outputs/test --tokens-per-step 1024 --wandb latent-lens-test"
      ]
    }
  ],
  "metadata": {
    "colab": {
      "provenance": []
    },
    "kernelspec": {
      "display_name": "torch",
      "language": "python",
      "name": "torch"
    },
    "language_info": {
      "codemirror_mode": {
        "name": "ipython",
        "version": 3
      },
      "file_extension": ".py",
      "mimetype": "text/x-python",
      "name": "python",
      "nbconvert_exporter": "python",
      "pygments_lexer": "ipython3",
      "version": "3.10.4"
    },
    "vscode": {
      "interpreter": {
        "hash": "ca27fca65bbd5c56c827a2643e94bc7b2b551ee6ee2fe84566f2c789012bce4f"
      }
    }
  },
  "nbformat": 4,
  "nbformat_minor": 0
}
