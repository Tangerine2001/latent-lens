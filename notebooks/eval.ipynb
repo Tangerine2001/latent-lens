{
 "cells": [
  {
   "cell_type": "code",
   "execution_count": 2,
   "metadata": {},
   "outputs": [
    {
     "ename": "ModuleNotFoundError",
     "evalue": "No module named 'torch'",
     "output_type": "error",
     "traceback": [
      "\u001b[0;31m---------------------------------------------------------------------------\u001b[0m",
      "\u001b[0;31mModuleNotFoundError\u001b[0m                       Traceback (most recent call last)",
      "\u001b[1;32m/Users/rebeccatull/Documents/GitHub/latent-lens/notebooks/eval.ipynb Cell 1\u001b[0m in \u001b[0;36m1\n\u001b[0;32m----> <a href='vscode-notebook-cell:/Users/rebeccatull/Documents/GitHub/latent-lens/notebooks/eval.ipynb#X14sZmlsZQ%3D%3D?line=0'>1</a>\u001b[0m \u001b[39mimport\u001b[39;00m \u001b[39mtorch\u001b[39;00m\n\u001b[1;32m      <a href='vscode-notebook-cell:/Users/rebeccatull/Documents/GitHub/latent-lens/notebooks/eval.ipynb#X14sZmlsZQ%3D%3D?line=1'>2</a>\u001b[0m \u001b[39mfrom\u001b[39;00m \u001b[39mtuned_lens\u001b[39;00m\u001b[39m.\u001b[39;00m\u001b[39mnn\u001b[39;00m\u001b[39m.\u001b[39;00m\u001b[39mlenses\u001b[39;00m \u001b[39mimport\u001b[39;00m TunedLens\n\u001b[1;32m      <a href='vscode-notebook-cell:/Users/rebeccatull/Documents/GitHub/latent-lens/notebooks/eval.ipynb#X14sZmlsZQ%3D%3D?line=2'>3</a>\u001b[0m \u001b[39mfrom\u001b[39;00m \u001b[39mtransformers\u001b[39;00m \u001b[39mimport\u001b[39;00m AutoModelForCausalLM, AutoTokenizer\n",
      "\u001b[0;31mModuleNotFoundError\u001b[0m: No module named 'torch'"
     ]
    }
   ],
   "source": [
    "import torch\n",
    "from tuned_lens.nn.lenses import TunedLens\n",
    "from transformers import AutoModelForCausalLM, AutoTokenizer\n",
    "from torch.utils.data import DataLoader\n",
    "from tuned_lens.scripts.train_loop_latent import RelatedCollator\n",
    "from tuned_lens.scripts.lens_latent import RelatedDataset\n",
    "from tuned_lens.plotting import plot_lens, get_lens_stream\n",
    "#import ipywidgets as widgets\n",
    "from plotly import graph_objects as go\n",
    "import json\n",
    "import torch as tf\n",
    "import pandas as pd\n",
    "from plotly.subplots import make_subplots\n"
   ]
  },
  {
   "cell_type": "code",
   "execution_count": 3,
   "metadata": {},
   "outputs": [],
   "source": [
    "import os\n",
    "\n",
    "import torch\n",
    "from tuned_lens.nn.lenses import TunedLens, LogitLens\n",
    "from transformers import AutoModelForCausalLM, AutoTokenizer\n",
    "\n",
    "windows = False\n",
    "try:\n",
    "  from google.colab import output\n",
    "  output.enable_custom_widget_manager()\n",
    "except:\n",
    "  if os.name == 'nt':\n",
    "    windows = True\n",
    "\n",
    "bfloat16_available = torch.cuda.get_device_capability()[0] >= 8\n",
    "floatDtype = torch.bfloat16 if bfloat16_available else torch.float16"
   ]
  },
  {
   "cell_type": "code",
   "execution_count": 6,
   "metadata": {},
   "outputs": [],
   "source": [
    "device = torch.device('cuda')\n",
    "loadLens = True\n",
    "modelName = 'EleutherAI/pythia-1b'\n",
    "LensName = \"..\\\\outputs\\\\test-1b\\\\\"\n",
    "# modelName = 'sshleifer/tiny-gpt2'\n",
    "# To try a diffrent modle / lens check if the lens is avalible then modify this code\n",
    "model = AutoModelForCausalLM.from_pretrained(modelName, low_cpu_mem_usage=True, torch_dtype=floatDtype)\n",
    "model.eval()\n",
    "model.requires_grad_(False)\n",
    "model = model.to(device)\n",
    "\n",
    "tokenizer = AutoTokenizer.from_pretrained(modelName)\n",
    "if loadLens:\n",
    "    tuned_lens = TunedLens.load(LensName, map_location=device)\n",
    "else:\n",
    "    tuned_lens = TunedLens(model)\n",
    "tuned_lens = tuned_lens.to(device)\n",
    "# logit_lens = LogitLens(model)\n",
    "logit_lens = None\n"
   ]
  },
  {
   "cell_type": "code",
   "execution_count": 17,
   "metadata": {},
   "outputs": [],
   "source": [
    "dataDir = \"..\\\\datasets/\"\n",
    "with open(dataDir +\"related.json\", \"r\") as f: \n",
    "    relatedJson = json.load(f)\n",
    "        \n",
    "tokenizer = AutoTokenizer.from_pretrained(\"gpt2\", padding_side='left', return_special_tokens_mask=True)\n",
    "tokenizer.add_special_tokens({'pad_token': '[PAD]'})\n",
    "\n",
    "dataset = RelatedDataset(relatedJson, tokenizer)\n",
    "collator = RelatedCollator(tokenizer, dataset.pad_to_multiple_of)\n",
    "dl = DataLoader(dataset, batch_size=1, collate_fn=collator, shuffle=True)\n",
    "\n",
    "\n",
    "\n"
   ]
  },
  {
   "cell_type": "code",
   "execution_count": 20,
   "metadata": {},
   "outputs": [
    {
     "name": "stdout",
     "output_type": "stream",
     "text": [
      "prompt torch.Size([1, 9])\n",
      "torch.Size([1, 9, 50304])\n",
      "torch.Size([1, 3, 50304])\n"
     ]
    }
   ],
   "source": [
    "for prompt, response, related in dl:\n",
    "    len_related_words = len(related['input_ids'])\n",
    "\n",
    "    print(\"prompt\", prompt[\"input_ids\"].shape)\n",
    "    \n",
    "    for i in range(len_related_words): \n",
    "        hidden_lps, responseOutput = get_lens_stream(model, tokenizer, tuned_lens, \n",
    "                                                     input_ids=prompt[\"input_ids\"], \n",
    "                                                     input_att_mask=prompt[\"attention_mask\"], \n",
    "                                                     response_ids=response[\"input_ids\"], \n",
    "                                                     response_att_mask=response[\"attention_mask\"], \n",
    "                                                     related_ids = related['input_ids'], \n",
    "                                                     related_att_mask=related['attention_mask'])\n",
    "        \n",
    "        print(hidden_lps.layers[0].shape)\n",
    "        print(responseOutput.logits.shape)\n",
    "    break\n",
    "    \n",
    "    # for each word put it in the modified plot lens to make an appropriate return \n",
    "    #response_masked_input = response['input_ids'] * response['attention_mask']\n",
    "   \n",
    "            "
   ]
  },
  {
   "cell_type": "code",
   "execution_count": null,
   "metadata": {},
   "outputs": [],
   "source": [
    "\n",
    "stats = tf.load(\"latent_stats.pt\")\n",
    "perplexity = stats['response_perplexity'])\n",
    "thresholds = list(stats['precision'][6].keys())\n",
    "\n",
    "id_6_precision = list(stats['precision'][6].values())\n",
    "id_6_recall = list(stats['recall'][6].values())\n",
    "id_6_f1 = list(stats['f1'][6].values())\n",
    "\n",
    "id_12_precision = list(stats['precision'][12].values())\n",
    "id_12_recall = list(stats['recall'][12].values())\n",
    "id_12_f1 = list(stats['f1'][12].values())\n"
   ]
  },
  {
   "cell_type": "code",
   "execution_count": null,
   "metadata": {},
   "outputs": [],
   "source": [
    "# Precision Per Layer\n",
    "fig_precision = go.Figure(data=[go.Table(\n",
    "    header=dict(values=list(df_precision.columns),\n",
    "                align='left'),\n",
    "    cells=dict(values=[df_precision[col] for col in df_precision.columns],\n",
    "               align='left'))\n",
    "])\n",
    "\n",
    "fig_precision.show()"
   ]
  },
  {
   "cell_type": "code",
   "execution_count": null,
   "metadata": {},
   "outputs": [],
   "source": [
    "fig_id_6 = make_subplots(specs=[[{\"secondary_y\": True}]])\n",
    "\n",
    "fig_id_6.add_trace(\n",
    "    go.Scatter(x=id_6_recall, y=id_6_precision, name=\"Lens Prediction\"),\n",
    "    secondary_y=False,\n",
    ")\n",
    "\n",
    "fig_id_6.update_layout(\n",
    "    title_text=\"Layer 6: Precision v Recall\"\n",
    ")\n",
    "\n",
    "\n",
    "fig_id_6.update_xaxes(title_text=\"Recall\")\n",
    "fig_id_6.update_yaxes(title_text=\"Precision\", secondary_y=False)\n",
    "fig_id_6.update_layout(showlegend=True)\n",
    "\n",
    "fig_id_6.show()"
   ]
  },
  {
   "cell_type": "code",
   "execution_count": null,
   "metadata": {},
   "outputs": [],
   "source": [
    "fig_id_6 = make_subplots(specs=[[{\"secondary_y\": True}]])\n",
    "fig_id_6.add_trace(\n",
    "    go.Scatter(x=thresholds, y=id_12_precision, name=\"Precision\"),\n",
    "    secondary_y=False,\n",
    ")\n",
    "\n",
    "fig_id_6.add_trace(\n",
    "    go.Scatter(x=thresholds, y=id_12_recall, name=\"Recall\"),\n",
    "    secondary_y=True,\n",
    ")\n",
    "\n",
    "fig_id_6.add_trace(\n",
    "    go.Scatter(x=thresholds, y=id_12_f1, name=\"f1\"),\n",
    "    secondary_y=True,\n",
    ")\n",
    "\n",
    "fig_id_6.update_layout(\n",
    "    title_text=\"Layer 6: Prediction Threshold v Precision, Recall and F1\"\n",
    ")\n",
    "\n",
    "fig_id_6.update_xaxes(title_text=\"Prediction Threshold\")\n",
    "\n",
    "\n",
    "fig_id_6.show()"
   ]
  },
  {
   "cell_type": "code",
   "execution_count": null,
   "metadata": {},
   "outputs": [],
   "source": [
    "fig_id_12 = make_subplots(specs=[[{\"secondary_y\": True}]])\n",
    "\n",
    "fig_id_12.add_trace(\n",
    "    go.Scatter(x=id_12_recall, y=id_12_precision, name=\"Lens Prediction\"),\n",
    "    secondary_y=False,\n",
    ")\n",
    "\n",
    "\n",
    "fig_id_12.update_layout(\n",
    "    title_text=\"Layer 12 Lens: Precision v Recall and F1\"\n",
    ")\n",
    "\n",
    "\n",
    "fig_id_12.update_xaxes(title_text=\"Recall\")\n",
    "\n",
    "\n",
    "fig_id_12.update_yaxes(title_text=\"Precision\", secondary_y=False)\n",
    "fig_id_12.update_layout(showlegend=True)\n",
    "\n",
    "fig_id_12.show()"
   ]
  },
  {
   "cell_type": "code",
   "execution_count": null,
   "metadata": {},
   "outputs": [],
   "source": [
    "fig_id_12 = make_subplots(specs=[[{\"secondary_y\": True}]])\n",
    "\n",
    "fig_id_12.add_trace(\n",
    "    go.Scatter(x=thresholds, y=id_12_precision, name=\"Precision\"),\n",
    "    secondary_y=False,\n",
    ")\n",
    "\n",
    "fig_id_12.add_trace(\n",
    "    go.Scatter(x=thresholds, y=id_12_recall, name=\"Recall\"),\n",
    "    secondary_y=True,\n",
    ")\n",
    "\n",
    "fig_id_12.add_trace(\n",
    "    go.Scatter(x=thresholds, y=id_12_f1, name=\"f1\"),\n",
    "    secondary_y=True,\n",
    ")\n",
    "\n",
    "fig_id_12.update_layout(\n",
    "    title_text=\"Layer 12: Prediction Threshold v Precision, Recall and F1\"\n",
    ")\n",
    "\n",
    "fig_id_12.update_xaxes(title_text=\"Prediction Threshold\")\n",
    "\n",
    "\n",
    "fig_id_12.show()"
   ]
  }
 ],
 "metadata": {
  "kernelspec": {
   "display_name": "torch",
   "language": "python",
   "name": "torch"
  },
  "language_info": {
   "codemirror_mode": {
    "name": "ipython",
    "version": 3
   },
   "file_extension": ".py",
   "mimetype": "text/x-python",
   "name": "python",
   "nbconvert_exporter": "python",
   "pygments_lexer": "ipython3",
   "version": "3.10.4"
  },
  "orig_nbformat": 4
 },
 "nbformat": 4,
 "nbformat_minor": 2
}
