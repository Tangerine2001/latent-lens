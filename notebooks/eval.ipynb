{
 "cells": [
  {
   "cell_type": "code",
   "execution_count": null,
   "metadata": {},
   "outputs": [],
   "source": [
    "import torch\n",
    "from tuned_lens.nn.lenses import TunedLens\n",
    "from transformers import AutoModelForCausalLM, AutoTokenizer\n",
    "from torch.utils.data import DataLoader\n",
    "from tuned_lens.scripts.train_loop_latent import RelatedCollator\n",
    "from tuned_lens.scripts.lens_latent import RelatedDataset\n",
    "from tuned_lens.plotting import plot_lens\n",
    "#import ipywidgets as widgets\n",
    "from plotly import graph_objects as go\n",
    "import json\n",
    "import os"
   ]
  },
  {
   "cell_type": "code",
   "execution_count": null,
   "metadata": {},
   "outputs": [],
   "source": [
    "device = torch.device('cpu')\n",
    "loadModel = False\n",
    "modelName = 'gpt2'\n",
    "# modelName = 'sshleifer/tiny-gpt2'\n",
    "# To try a diffrent modle / lens check if the lens is avalible then modify this code\n",
    "model = AutoModelForCausalLM.from_pretrained(modelName)\n",
    "model = model.to(device)\n",
    "tokenizer = AutoTokenizer.from_pretrained(modelName)\n",
    "if loadModel:\n",
    "    tuned_lens = TunedLens.load(modelName, map_location=device)\n",
    "else:\n",
    "    tuned_lens = TunedLens(model)\n",
    "tuned_lens = tuned_lens.to(device)\n"
   ]
  },
  {
   "cell_type": "code",
   "execution_count": null,
   "metadata": {},
   "outputs": [],
   "source": [
    "dataDir = \"datasets/\"\n",
    "with open(dataDir +\"related.json\", \"r\") as f: \n",
    "    relatedJson = json.load(f)\n",
    "        \n",
    "tokenizer = AutoTokenizer.from_pretrained(\"gpt2\", padding_side='left', return_special_tokens_mask=True)\n",
    "tokenizer.add_special_tokens({'pad_token': '[PAD]'})\n",
    "\n",
    "dataset = RelatedDataset(relatedJson, tokenizer)\n",
    "collator = RelatedCollator(tokenizer, dataset.pad_to_multiple_of)\n",
    "dl = DataLoader(dataset, batch_size=2, collate_fn=collator, shuffle=True)\n",
    "\n",
    "\n",
    "\n"
   ]
  },
  {
   "cell_type": "code",
   "execution_count": null,
   "metadata": {},
   "outputs": [],
   "source": [
    "for prompt, response, related in dl:\n",
    "    len_related_words = len(related['input_ids'])\n",
    "    \n",
    "    for i in range(len_related_words): \n",
    "        hidden_lps, responseOutput = plot_lens.get_lens_stream(model, tokenizer, tuned_lens, related_ids = related['input_ids'][i], related_at_mask=related['attention_mask'][i])\n",
    "        #print(hidden_lps.shape)\n",
    "        #print(responseOutput.shape)\n",
    "    \n",
    "    # for each word put it in the modified plot lens to make an appropriate return \n",
    "    #response_masked_input = response['input_ids'] * response['attention_mask']\n",
    "   \n",
    "            "
   ]
  }
 ],
 "metadata": {
  "kernelspec": {
   "display_name": "Python 3",
   "language": "python",
   "name": "python3"
  },
  "language_info": {
   "name": "python",
   "version": "3.10.8"
  },
  "orig_nbformat": 4
 },
 "nbformat": 4,
 "nbformat_minor": 2
}
